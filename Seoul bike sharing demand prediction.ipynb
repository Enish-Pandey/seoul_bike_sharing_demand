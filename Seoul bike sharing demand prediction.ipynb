{
 "cells": [
  {
   "cell_type": "markdown",
   "id": "c8c06a64",
   "metadata": {},
   "source": [
    "## Seoul bike sharing demand prediction"
   ]
  },
  {
   "cell_type": "code",
   "execution_count": null,
   "id": "369e0f76",
   "metadata": {},
   "outputs": [],
   "source": [
    "import numpy as np\n",
    "import pandas as pd\n",
    "from matplotlib import pyplot as plt\n"
   ]
  },
  {
   "cell_type": "code",
   "execution_count": null,
   "id": "72d95aeb",
   "metadata": {},
   "outputs": [],
   "source": [
    "df=pd.read_csv(\"seoul_projects/seoulbikeencoded.csv\")\n",
    "df.head(1)"
   ]
  },
  {
   "cell_type": "code",
   "execution_count": null,
   "id": "15953b8c",
   "metadata": {},
   "outputs": [],
   "source": [
    "df=df.rename(columns={'Temperature(°C)':'Temperature','Humidity(%)':'Humidity',\n",
    "                      'Wind speed (m/s)':'Wind speed','Visibility (10m)':'Visibility',\n",
    "                      'Dew point temperature(°C)':'Dew point temperature',\n",
    "                      'Solar Radiation (MJ/m2)':'Solar Radiation',\n",
    "                      'Rainfall(mm)':'Rainfall','Snowfall (cm)':'Snowfall'})"
   ]
  },
  {
   "cell_type": "code",
   "execution_count": null,
   "id": "1429d6ad",
   "metadata": {},
   "outputs": [],
   "source": [
    "df.head()"
   ]
  },
  {
   "cell_type": "code",
   "execution_count": null,
   "id": "f5481c6d",
   "metadata": {},
   "outputs": [],
   "source": [
    "df.columns"
   ]
  },
  {
   "cell_type": "code",
   "execution_count": null,
   "id": "b0a55294",
   "metadata": {},
   "outputs": [],
   "source": [
    "df.info()"
   ]
  },
  {
   "cell_type": "code",
   "execution_count": null,
   "id": "80447bd1",
   "metadata": {},
   "outputs": [],
   "source": [
    "df=df.astype({'Rented Bike Count':'float','Hour':'object'})"
   ]
  },
  {
   "cell_type": "code",
   "execution_count": null,
   "id": "3c039a52",
   "metadata": {},
   "outputs": [],
   "source": [
    "df.info()"
   ]
  },
  {
   "cell_type": "code",
   "execution_count": null,
   "id": "d24e895b",
   "metadata": {},
   "outputs": [],
   "source": [
    "df.describe().style.background_gradient()"
   ]
  },
  {
   "cell_type": "code",
   "execution_count": null,
   "id": "806dccaa",
   "metadata": {},
   "outputs": [],
   "source": [
    "df.nunique().sort_values(ascending=True)"
   ]
  },
  {
   "cell_type": "code",
   "execution_count": null,
   "id": "d2f87df8",
   "metadata": {},
   "outputs": [],
   "source": [
    "df.isnull().sum()"
   ]
  },
  {
   "cell_type": "code",
   "execution_count": null,
   "id": "053c8ecf",
   "metadata": {},
   "outputs": [],
   "source": []
  },
  {
   "cell_type": "code",
   "execution_count": null,
   "id": "0cd47eca",
   "metadata": {},
   "outputs": [],
   "source": [
    "import missingno as msno"
   ]
  },
  {
   "cell_type": "code",
   "execution_count": null,
   "id": "21b88efe",
   "metadata": {},
   "outputs": [],
   "source": [
    "msno.matrix(df,labels=[df.columns], figsize=(30,16), fontsize=12)"
   ]
  },
  {
   "cell_type": "code",
   "execution_count": null,
   "id": "d4ca2f1b",
   "metadata": {},
   "outputs": [],
   "source": [
    "import seaborn as sns"
   ]
  },
  {
   "cell_type": "markdown",
   "id": "4ec4bac0",
   "metadata": {},
   "source": [
    "## Bar plot"
   ]
  },
  {
   "cell_type": "code",
   "execution_count": null,
   "id": "411d1c30",
   "metadata": {},
   "outputs": [],
   "source": [
    "\n",
    "plt.figure(figsize=(18,18))\n",
    "for i,col in enumerate(df.select_dtypes(include=['float64','int']).columns):\n",
    "    plt.rcParams['axes.facecolor']='black'\n",
    "    ax=plt.subplot(4,3,i+1)\n",
    "    sns.barplot(data=df,x='Hour',y=col,ax=ax,edgecolor=\"black\",palette='viridis_r')\n",
    "    plt.suptitle('Data distribution of continuous variables')\n",
    "    plt.tight_layout()"
   ]
  },
  {
   "cell_type": "code",
   "execution_count": null,
   "id": "46e626de",
   "metadata": {},
   "outputs": [],
   "source": [
    "plt.figure(figsize=(18,18))\n",
    "for i, col in enumerate(df.select_dtypes(include=['float64','int64']).columns):\n",
    "    plt.rcParams['axes.facecolor']='white'\n",
    "    ax=plt.subplot(5,2,i+1)\n",
    "    sns.boxplot(data=df,x=col,ax=ax,color='blue')\n",
    "    plt.suptitle('Box plot of continuous variables')\n",
    "    plt.tight_layout()"
   ]
  },
  {
   "cell_type": "code",
   "execution_count": null,
   "id": "50016605",
   "metadata": {},
   "outputs": [],
   "source": [
    "#selecting variables that have data type float and int\n",
    "var= list(df.select_dtypes(include=['float64','int64']).columns)"
   ]
  },
  {
   "cell_type": "code",
   "execution_count": null,
   "id": "dece0550",
   "metadata": {},
   "outputs": [],
   "source": [
    "from sklearn.preprocessing import PowerTransformer\n",
    "sc_X=PowerTransformer(method='yeo-johnson')\n",
    "df[var]=sc_X.fit_transform(df[var])"
   ]
  },
  {
   "cell_type": "code",
   "execution_count": null,
   "id": "8ff60b72",
   "metadata": {},
   "outputs": [],
   "source": [
    "plt.figure(figsize=(18,18))\n",
    "for i, col in enumerate(df.select_dtypes(include=['float64','int64']).columns):\n",
    "    plt.rcParams['axes.facecolor']='white'\n",
    "    ax=plt.subplot(5,2,i+1)\n",
    "    sns.histplot(data=df,x=col,ax=ax,color='red', kde=True)\n",
    "    plt.suptitle('Data distribution of continuous variables')\n",
    "    plt.tight_layout()"
   ]
  },
  {
   "cell_type": "code",
   "execution_count": null,
   "id": "f382af72",
   "metadata": {},
   "outputs": [],
   "source": [
    "plt.figure(figsize=(18,18))\n",
    "for i, col in enumerate(df.select_dtypes(include=['float64','int64']).columns):\n",
    "    plt.rcParams['axes.facecolor']='white'\n",
    "    ax=plt.subplot(5,2,i+1)\n",
    "    sns.boxplot(data=df,x=col,ax=ax,color='blue')\n",
    "    plt.suptitle('Box plot of continuous variables')\n",
    "    plt.tight_layout()"
   ]
  },
  {
   "cell_type": "code",
   "execution_count": null,
   "id": "753196ec",
   "metadata": {},
   "outputs": [],
   "source": [
    "plt.figure(figsize=(8,8))\n",
    "sns.heatmap(df.select_dtypes(include=['float']).corr(),annot=True,center=0)\n",
    "plt.show()"
   ]
  },
  {
   "cell_type": "code",
   "execution_count": null,
   "id": "58311ee6",
   "metadata": {},
   "outputs": [],
   "source": [
    "df=pd.get_dummies(df,columns=['Holiday','Seasons','Functioning Day','Hour'],\n",
    "                  drop_first=True)"
   ]
  },
  {
   "cell_type": "code",
   "execution_count": null,
   "id": "ab70e982",
   "metadata": {},
   "outputs": [],
   "source": [
    "X=df.iloc[:,2:]\n",
    "y=df.iloc[:,1]"
   ]
  },
  {
   "cell_type": "code",
   "execution_count": null,
   "id": "e8e8e64d",
   "metadata": {},
   "outputs": [],
   "source": [
    "# Featured selection\n",
    "# feature selection methods are intended to reduce the number of input variables to those that are \n",
    "# believed to be most useful to a model in order to predict the target variable"
   ]
  },
  {
   "cell_type": "code",
   "execution_count": null,
   "id": "1254ca67",
   "metadata": {},
   "outputs": [],
   "source": [
    "from sklearn.feature_selection import SelectKBest\n",
    "from sklearn.feature_selection import f_regression"
   ]
  },
  {
   "cell_type": "code",
   "execution_count": null,
   "id": "3fef0741",
   "metadata": {},
   "outputs": [],
   "source": [
    "fs = SelectKBest(score_func=f_regression,k='all')\n",
    "fs.fit(X,y)"
   ]
  },
  {
   "cell_type": "code",
   "execution_count": null,
   "id": "557cbe73",
   "metadata": {},
   "outputs": [],
   "source": [
    "feature_contribution=(fs.scores_/sum(fs.scores_))*100"
   ]
  },
  {
   "cell_type": "code",
   "execution_count": null,
   "id": "ca28aa30",
   "metadata": {},
   "outputs": [],
   "source": [
    "#feature importance graph"
   ]
  },
  {
   "cell_type": "code",
   "execution_count": null,
   "id": "c2b371d7",
   "metadata": {},
   "outputs": [],
   "source": [
    "for i,j in enumerate(X.columns):\n",
    "    print(f'{j}:{feature_contribution[i]:.2f}%')\n",
    "plt.figure(figsize=(12,6))\n",
    "sns.barplot(x=X.columns,y=fs.scores_)\n",
    "plt.show()"
   ]
  },
  {
   "cell_type": "code",
   "execution_count": null,
   "id": "675698cf",
   "metadata": {},
   "outputs": [],
   "source": [
    "# From the above bar graph we can see the feature importance and we will include only those features \n",
    "# which are more important for our model."
   ]
  },
  {
   "cell_type": "markdown",
   "id": "1fe1392f",
   "metadata": {},
   "source": [
    "## Splitting our data set into train and test set"
   ]
  },
  {
   "cell_type": "code",
   "execution_count": null,
   "id": "9321a374",
   "metadata": {},
   "outputs": [],
   "source": [
    "from sklearn.model_selection import train_test_split\n"
   ]
  },
  {
   "cell_type": "code",
   "execution_count": null,
   "id": "a5fcd18d",
   "metadata": {},
   "outputs": [],
   "source": [
    "X_train,X_test,y_train,y_test=train_test_split(X,y,test_size=0.2,random_state=0)"
   ]
  },
  {
   "cell_type": "markdown",
   "id": "55fc62f6",
   "metadata": {},
   "source": [
    "# feature scaling"
   ]
  },
  {
   "cell_type": "code",
   "execution_count": null,
   "id": "385d1609",
   "metadata": {},
   "outputs": [],
   "source": [
    "from sklearn.preprocessing import StandardScaler\n",
    "sc=StandardScaler()\n",
    "X_train=sc.fit_transform(X_train)\n",
    "X_test=sc.transform(X_test)"
   ]
  },
  {
   "cell_type": "markdown",
   "id": "4af6bf0e",
   "metadata": {},
   "source": [
    "# importing different regression model"
   ]
  },
  {
   "cell_type": "code",
   "execution_count": null,
   "id": "d35e0957",
   "metadata": {},
   "outputs": [],
   "source": [
    "from sklearn.linear_model import LinearRegression\n",
    "from sklearn.metrics import r2_score\n",
    "from sklearn.metrics import mean_squared_error\n",
    "from sklearn.preprocessing import PolynomialFeatures\n",
    "from sklearn.tree import DecisionTreeRegressor\n",
    "from sklearn.ensemble import RandomForestRegressor,BaggingRegressor,StackingRegressor\n",
    "from sklearn.model_selection import cross_val_score"
   ]
  },
  {
   "cell_type": "code",
   "execution_count": null,
   "id": "c79165dc",
   "metadata": {},
   "outputs": [],
   "source": [
    "model_comparison={}"
   ]
  },
  {
   "cell_type": "code",
   "execution_count": null,
   "id": "a26f27be",
   "metadata": {},
   "outputs": [],
   "source": [
    "estimators=[('linear regression',LinearRegression()),('Decision Tree',DecisionTreeRegressor()),\n",
    "            ('random forest',RandomForestRegressor(n_estimators=10,random_state=0)),\n",
    "            ('bagging',BaggingRegressor(RandomForestRegressor(n_estimators=10,random_state=0),random_state=0))]"
   ]
  },
  {
   "cell_type": "code",
   "execution_count": null,
   "id": "7b35e040",
   "metadata": {},
   "outputs": [],
   "source": [
    "models={\n",
    "    \"LinearRegression\":LinearRegression(),\n",
    "    \"DecisionTreeRegressor\":DecisionTreeRegressor(),\n",
    "    \"RandomForestRegressor\":RandomForestRegressor(n_estimators=10,random_state=0),\n",
    "    \"BaggingRegressor\":BaggingRegressor(RandomForestRegressor(n_estimators=10,random_state=0),random_state=0),\n",
    "    \"StackingRegressor\":StackingRegressor(estimators=estimators,final_estimator=LinearRegression(),passthrough=True)\n",
    "}\n",
    "for i in range(len(list(models))):\n",
    "    model=list(models.values())[i]\n",
    "    model.fit(X_train,y_train)#train model\n",
    "    \n",
    "    y_pred=model.predict(X_test)\n",
    "    \n",
    "    print(list(models.keys())[i])\n",
    "    print(f\"Model R-Square : {r2_score(y_test,y_pred)*100:.2f}%\")\n",
    "    print(f\"Model MSE : {mean_squared_error(y_test,y_pred)*100:.2f}%\")\n",
    "    accuracies = cross_val_score(estimator = model, X = X_train, y = y_train, cv = 5)\n",
    "    print(\"Cross Val Accuracy: {:.2f} %\".format(accuracies.mean()*100))\n",
    "    print(\"Cross Val Standard Deviation: {:.2f} %\".format(accuracies.std()*100))\n",
    "    model_comparison[i]=[r2_score(y_test,y_pred),mean_squared_error(y_test,y_pred),(accuracies.mean()),(accuracies.std())]\n",
    "    print(\"----------------------------------------------------------------------------------------------\")\n",
    "    print('\\n')"
   ]
  },
  {
   "cell_type": "code",
   "execution_count": null,
   "id": "0b3bdbc8",
   "metadata": {},
   "outputs": [],
   "source": [
    "#hyperparameter tuning\n",
    "rf_params={\n",
    "    \"max_depth\":[5,8,15,None,10],\n",
    "    \"max_features\":[5,7,'auto',10],\n",
    "    \"min_samples_split\":[2,8,15,20],\n",
    "    \"n_estimators\":[100,200,500,1000]\n",
    "}"
   ]
  },
  {
   "cell_type": "code",
   "execution_count": null,
   "id": "ab784d3a",
   "metadata": {},
   "outputs": [],
   "source": [
    "rf_params"
   ]
  },
  {
   "cell_type": "code",
   "execution_count": null,
   "id": "d9817409",
   "metadata": {},
   "outputs": [],
   "source": [
    "#models lists for hyperparameter tuning\n",
    "randomcv_models=[\n",
    "    (\"RF\",RandomForestRegressor(),rf_params)\n",
    "]"
   ]
  },
  {
   "cell_type": "code",
   "execution_count": null,
   "id": "5e987575",
   "metadata": {},
   "outputs": [],
   "source": [
    "randomcv_models"
   ]
  },
  {
   "cell_type": "code",
   "execution_count": null,
   "id": "33fcbd96",
   "metadata": {},
   "outputs": [],
   "source": [
    "from sklearn.model_selection import RandomizedSearchCV\n",
    "\n",
    "model_params={}\n",
    "\n",
    "for name,model, params in randomcv_models:\n",
    "    random=RandomizedSearchCV(estimator=model,\n",
    "                             param_distributions=params,\n",
    "                             n_iter=100,\n",
    "                             cv=3,\n",
    "                             verbose=2,\n",
    "                             n_jobs=-1)\n",
    "    random.fit(X_train,y_train)\n",
    "    model_params[name]=random.best_params_\n",
    "    \n",
    "for model_name in model_params:\n",
    "    print(f\"-----------Best params for {model_name}---------\")\n",
    "    print(model_params[model_name])"
   ]
  },
  {
   "cell_type": "code",
   "execution_count": null,
   "id": "74eab01b",
   "metadata": {},
   "outputs": [],
   "source": [
    "#Fitting 3 folds for each of 100 candidates, totalling 300 fits\n",
    "# -----------Best params for RF---------\n",
    "# {'n_estimators': 1000, 'min_samples_split': 2, 'max_features': 10, 'max_depth': None}\n"
   ]
  },
  {
   "cell_type": "code",
   "execution_count": null,
   "id": "58411f71",
   "metadata": {},
   "outputs": [],
   "source": [
    "best_models={\n",
    "\n",
    "    \"RandomForestRegressor\":RandomForestRegressor(n_estimators=1000, min_samples_split=2, max_features=10, max_depth=None),\n",
    "   \n",
    "}\n",
    "for i in range(len(list(best_models))):\n",
    "    bestmodel=list(best_models.values())[i]\n",
    "    bestmodel.fit(X_train,y_train)#train model\n",
    "    \n",
    "    y_pred=bestmodel.predict(X_test)\n",
    "    \n",
    "    print(list(best_models.keys())[i])\n",
    "    print(f\"Model R-Square : {r2_score(y_test,y_pred)*100:.2f}%\")\n",
    "    print(f\"Model MSE : {mean_squared_error(y_test,y_pred)*100:.2f}%\")\n",
    "    accuracies = cross_val_score(estimator = bestmodel, X = X_train, y = y_train, cv = 5)\n",
    "    print(\"Cross Val Accuracy: {:.2f} %\".format(accuracies.mean()*100))\n",
    "    print(\"Cross Val Standard Deviation: {:.2f} %\".format(accuracies.std()*100))\n",
    "    model_comparison[i]=[r2_score(y_test,y_pred),mean_squared_error(y_test,y_pred),(accuracies.mean()),(accuracies.std())]\n",
    "    print(\"----------------------------------------------------------------------------------------------\")\n",
    "    print('\\n')"
   ]
  },
  {
   "cell_type": "code",
   "execution_count": null,
   "id": "0cba307a",
   "metadata": {},
   "outputs": [],
   "source": [
    "import pickle\n",
    "import os\n",
    "dir=f\"D:\\ML Projects 2080\\seoul house prediction\"\n",
    "model_file_name=\"Seoul_bike_sharing_model_v1.pkl\"\n",
    "model_file_path=os.path.join(dir,model_file_name)"
   ]
  },
  {
   "cell_type": "code",
   "execution_count": null,
   "id": "0c50beb3",
   "metadata": {},
   "outputs": [],
   "source": [
    "pickle.dump(bestmodel,open(model_file_path,\"wb\"))"
   ]
  },
  {
   "cell_type": "code",
   "execution_count": null,
   "id": "fd5c7e59",
   "metadata": {},
   "outputs": [],
   "source": [
    "X_test[0,:]"
   ]
  },
  {
   "cell_type": "code",
   "execution_count": null,
   "id": "f530601b",
   "metadata": {},
   "outputs": [],
   "source": [
    "y_test"
   ]
  },
  {
   "cell_type": "code",
   "execution_count": null,
   "id": "bbeba01f",
   "metadata": {},
   "outputs": [],
   "source": []
  }
 ],
 "metadata": {
  "kernelspec": {
   "display_name": "Python 3 (ipykernel)",
   "language": "python",
   "name": "python3"
  },
  "language_info": {
   "codemirror_mode": {
    "name": "ipython",
    "version": 3
   },
   "file_extension": ".py",
   "mimetype": "text/x-python",
   "name": "python",
   "nbconvert_exporter": "python",
   "pygments_lexer": "ipython3",
   "version": "3.9.7"
  }
 },
 "nbformat": 4,
 "nbformat_minor": 5
}

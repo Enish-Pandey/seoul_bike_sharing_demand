{
 "cells": [
  {
   "cell_type": "code",
   "execution_count": 1,
   "id": "6d5abdfc",
   "metadata": {},
   "outputs": [],
   "source": [
    "import pickle\n",
    "import os\n",
    "\n",
    "model_path=f\"D:\\ML Projects 2080\\seoul house prediction\\Seoul_bike_sharing_model_v1.pkl\"\n",
    "model=pickle.load(open(model_path,\"rb\"))"
   ]
  },
  {
   "cell_type": "code",
   "execution_count": 3,
   "id": "c2a9fb13",
   "metadata": {},
   "outputs": [
    {
     "data": {
      "text/plain": [
       "array([-0.57217203])"
      ]
     },
     "execution_count": 3,
     "metadata": {},
     "output_type": "execute_result"
    }
   ],
   "source": [
    "model.predict([[-0.16995336,  0.7412618 , -0.26358556,  0.97647428,  0.07906564,\n",
    "       -0.84643509, -0.25079687, -0.23133227,  0.23202281,  1.72810536,\n",
    "       -0.57910781, -0.57119872,  0.18254726, -0.21073995, -0.21622051,\n",
    "        4.8568996 , -0.20551585, -0.20209801, -0.20851441, -0.2144065 ,\n",
    "       -0.20776816, -0.2073942 , -0.20589266, -0.20814157, -0.20776816,\n",
    "       -0.20701967, -0.21037039, -0.21221286, -0.21073995, -0.21073995,\n",
    "       -0.20286171, -0.21221286, -0.20286171, -0.20888671, -0.20925845,\n",
    "       -0.20776816]])"
   ]
  },
  {
   "cell_type": "code",
   "execution_count": null,
   "id": "9d1a062c",
   "metadata": {},
   "outputs": [],
   "source": []
  }
 ],
 "metadata": {
  "kernelspec": {
   "display_name": "Python 3 (ipykernel)",
   "language": "python",
   "name": "python3"
  },
  "language_info": {
   "codemirror_mode": {
    "name": "ipython",
    "version": 3
   },
   "file_extension": ".py",
   "mimetype": "text/x-python",
   "name": "python",
   "nbconvert_exporter": "python",
   "pygments_lexer": "ipython3",
   "version": "3.9.7"
  }
 },
 "nbformat": 4,
 "nbformat_minor": 5
}
